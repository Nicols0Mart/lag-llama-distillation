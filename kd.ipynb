{
 "cells": [
  {
   "cell_type": "code",
   "execution_count": 1,
   "metadata": {},
   "outputs": [
    {
     "name": "stderr",
     "output_type": "stream",
     "text": [
      "/home/seyed/miniconda3/envs/env/lib/python3.11/site-packages/tqdm/auto.py:21: TqdmWarning: IProgress not found. Please update jupyter and ipywidgets. See https://ipywidgets.readthedocs.io/en/stable/user_install.html\n",
      "  from .autonotebook import tqdm as notebook_tqdm\n"
     ]
    }
   ],
   "source": [
    "import torch\n",
    "import torch.nn as nn\n",
    "import torch.optim as optim\n",
    "import torchvision.transforms as transforms\n",
    "import torchvision.datasets as datasets\n",
    "\n",
    "# Check if GPU is available, and if not, use the CPU\n",
    "device = torch.device(\"cuda\" if torch.cuda.is_available() else \"cpu\")"
   ]
  },
  {
   "cell_type": "code",
   "execution_count": 2,
   "metadata": {},
   "outputs": [
    {
     "name": "stdout",
     "output_type": "stream",
     "text": [
      "Files already downloaded and verified\n",
      "Files already downloaded and verified\n"
     ]
    }
   ],
   "source": [
    "transforms_cifar = transforms.Compose([\n",
    "    transforms.ToTensor(),\n",
    "    transforms.Normalize(mean=[0.485, 0.456, 0.406], std=[0.229, 0.224, 0.225]),\n",
    "])\n",
    "\n",
    "# Loading the CIFAR-10 dataset:\n",
    "train_dataset = datasets.CIFAR10(root='./data', train=True, download=True, transform=transforms_cifar)\n",
    "test_dataset = datasets.CIFAR10(root='./data', train=False, download=True, transform=transforms_cifar)"
   ]
  },
  {
   "cell_type": "code",
   "execution_count": 3,
   "metadata": {},
   "outputs": [],
   "source": [
    "train_loader = torch.utils.data.DataLoader(train_dataset, batch_size=128, shuffle=True, num_workers=2)\n",
    "test_loader = torch.utils.data.DataLoader(test_dataset, batch_size=128, shuffle=False, num_workers=2)"
   ]
  },
  {
   "cell_type": "code",
   "execution_count": 4,
   "metadata": {},
   "outputs": [],
   "source": [
    "class DeepNN(nn.Module):\n",
    "    def __init__(self, num_classes=10):\n",
    "        super(DeepNN, self).__init__()\n",
    "        self.features = nn.Sequential(\n",
    "            nn.Conv2d(3, 128, kernel_size=3, padding=1),\n",
    "            nn.ReLU(),\n",
    "            nn.Conv2d(128, 64, kernel_size=3, padding=1),\n",
    "            nn.ReLU(),\n",
    "            nn.MaxPool2d(kernel_size=2, stride=2),\n",
    "            nn.Conv2d(64, 64, kernel_size=3, padding=1),\n",
    "            nn.ReLU(),\n",
    "            nn.Conv2d(64, 32, kernel_size=3, padding=1),\n",
    "            nn.ReLU(),\n",
    "            nn.MaxPool2d(kernel_size=2, stride=2),\n",
    "        )\n",
    "        self.classifier = nn.Sequential(\n",
    "            nn.Linear(2048, 512),\n",
    "            nn.ReLU(),\n",
    "            nn.Dropout(0.1),\n",
    "            nn.Linear(512, num_classes)\n",
    "        )\n",
    "\n",
    "    def forward(self, x):\n",
    "        x = self.features(x)\n",
    "        x = torch.flatten(x, 1)\n",
    "        x = self.classifier(x)\n",
    "        return x\n",
    "\n",
    "# Lightweight neural network class to be used as student:\n",
    "class LightNN(nn.Module):\n",
    "    def __init__(self, num_classes=10):\n",
    "        super(LightNN, self).__init__()\n",
    "        self.features = nn.Sequential(\n",
    "            nn.Conv2d(3, 16, kernel_size=3, padding=1),\n",
    "            nn.ReLU(),\n",
    "            nn.MaxPool2d(kernel_size=2, stride=2),\n",
    "            nn.Conv2d(16, 16, kernel_size=3, padding=1),\n",
    "            nn.ReLU(),\n",
    "            nn.MaxPool2d(kernel_size=2, stride=2),\n",
    "        )\n",
    "        self.classifier = nn.Sequential(\n",
    "            nn.Linear(1024, 256),\n",
    "            nn.ReLU(),\n",
    "            nn.Dropout(0.1),\n",
    "            nn.Linear(256, num_classes)\n",
    "        )\n",
    "\n",
    "    def forward(self, x):\n",
    "        x = self.features(x)\n",
    "        x = torch.flatten(x, 1)\n",
    "        x = self.classifier(x)\n",
    "        return x"
   ]
  },
  {
   "cell_type": "code",
   "execution_count": 5,
   "metadata": {},
   "outputs": [],
   "source": [
    "def train(model, train_loader, epochs, learning_rate, device):\n",
    "    criterion = nn.CrossEntropyLoss()\n",
    "    optimizer = optim.Adam(model.parameters(), lr=learning_rate)\n",
    "\n",
    "    model.train()\n",
    "\n",
    "    for epoch in range(epochs):\n",
    "        running_loss = 0.0\n",
    "        for inputs, labels in train_loader:\n",
    "            # inputs: A collection of batch_size images\n",
    "            # labels: A vector of dimensionality batch_size with integers denoting class of each image\n",
    "            inputs, labels = inputs.to(device), labels.to(device)\n",
    "\n",
    "            optimizer.zero_grad()\n",
    "            outputs = model(inputs)\n",
    "\n",
    "            # outputs: Output of the network for the collection of images. A tensor of dimensionality batch_size x num_classes\n",
    "            # labels: The actual labels of the images. Vector of dimensionality batch_size\n",
    "            loss = criterion(outputs, labels)\n",
    "            loss.backward()\n",
    "            optimizer.step()\n",
    "\n",
    "            running_loss += loss.item()\n",
    "\n",
    "        print(f\"Epoch {epoch+1}/{epochs}, Loss: {running_loss / len(train_loader)}\")\n",
    "\n",
    "def test(model, test_loader, device):\n",
    "    model.to(device)\n",
    "    model.eval()\n",
    "\n",
    "    correct = 0\n",
    "    total = 0\n",
    "\n",
    "    with torch.no_grad():\n",
    "        for inputs, labels in test_loader:\n",
    "            inputs, labels = inputs.to(device), labels.to(device)\n",
    "\n",
    "            outputs = model(inputs)\n",
    "            _, predicted = torch.max(outputs.data, 1)\n",
    "\n",
    "            total += labels.size(0)\n",
    "            correct += (predicted == labels).sum().item()\n",
    "\n",
    "    accuracy = 100 * correct / total\n",
    "    print(f\"Test Accuracy: {accuracy:.2f}%\")\n",
    "    return accuracy"
   ]
  },
  {
   "cell_type": "code",
   "execution_count": 6,
   "metadata": {},
   "outputs": [
    {
     "name": "stdout",
     "output_type": "stream",
     "text": [
      "Epoch 1/50, Loss: 1.3355058013935528\n",
      "Epoch 2/50, Loss: 0.8668691409213464\n",
      "Epoch 3/50, Loss: 0.6752048631763214\n",
      "Epoch 4/50, Loss: 0.5310805269214504\n",
      "Epoch 5/50, Loss: 0.41089592161385907\n",
      "Epoch 6/50, Loss: 0.3109386853321129\n",
      "Epoch 7/50, Loss: 0.21642804507861663\n",
      "Epoch 8/50, Loss: 0.16224463847096618\n",
      "Epoch 9/50, Loss: 0.14398209176138235\n",
      "Epoch 10/50, Loss: 0.11642187057763262\n",
      "Epoch 11/50, Loss: 0.11232386205030982\n",
      "Epoch 12/50, Loss: 0.09794358372250024\n",
      "Epoch 13/50, Loss: 0.09115883650834603\n",
      "Epoch 14/50, Loss: 0.08433126543393678\n",
      "Epoch 15/50, Loss: 0.07208394244208437\n",
      "Epoch 16/50, Loss: 0.07749299952269667\n",
      "Epoch 17/50, Loss: 0.07536998473565139\n",
      "Epoch 18/50, Loss: 0.06654192930649576\n",
      "Epoch 19/50, Loss: 0.0761739694622948\n",
      "Epoch 20/50, Loss: 0.05641717683461964\n",
      "Epoch 21/50, Loss: 0.06006078817583906\n",
      "Epoch 22/50, Loss: 0.07211977076630972\n",
      "Epoch 23/50, Loss: 0.05984745851343931\n",
      "Epoch 24/50, Loss: 0.055542813671771864\n",
      "Epoch 25/50, Loss: 0.0609149327799392\n",
      "Epoch 26/50, Loss: 0.054206395792105545\n",
      "Epoch 27/50, Loss: 0.058915071802742566\n",
      "Epoch 28/50, Loss: 0.05112010472134956\n",
      "Epoch 29/50, Loss: 0.06012224505090957\n",
      "Epoch 30/50, Loss: 0.048414546495560755\n",
      "Epoch 31/50, Loss: 0.050082815666933116\n",
      "Epoch 32/50, Loss: 0.05343892984866353\n",
      "Epoch 33/50, Loss: 0.046726970848522585\n",
      "Epoch 34/50, Loss: 0.044221186361786534\n",
      "Epoch 35/50, Loss: 0.04572490597551074\n",
      "Epoch 36/50, Loss: 0.0515578584257237\n",
      "Epoch 37/50, Loss: 0.047374842538679365\n",
      "Epoch 38/50, Loss: 0.048811302847548116\n",
      "Epoch 39/50, Loss: 0.04771170299410906\n",
      "Epoch 40/50, Loss: 0.04371299569690338\n",
      "Epoch 41/50, Loss: 0.04826953378446457\n",
      "Epoch 42/50, Loss: 0.04203475642409842\n",
      "Epoch 43/50, Loss: 0.040372167624767794\n",
      "Epoch 44/50, Loss: 0.04412500953237476\n",
      "Epoch 45/50, Loss: 0.043596435069401876\n",
      "Epoch 46/50, Loss: 0.044204768450225675\n",
      "Epoch 47/50, Loss: 0.03799948710388482\n",
      "Epoch 48/50, Loss: 0.0435441658862502\n",
      "Epoch 49/50, Loss: 0.042283276408833934\n",
      "Epoch 50/50, Loss: 0.043065036617992374\n",
      "Test Accuracy: 74.77%\n"
     ]
    }
   ],
   "source": [
    "torch.manual_seed(42)\n",
    "nn_deep = DeepNN(num_classes=10).to(device)\n",
    "train(nn_deep, train_loader, epochs=50, learning_rate=0.001, device=device)\n",
    "test_accuracy_deep = test(nn_deep, test_loader, device)\n",
    "\n",
    "# Instantiate the lightweight network:\n",
    "torch.manual_seed(42)\n",
    "nn_light = LightNN(num_classes=10).to(device)"
   ]
  },
  {
   "cell_type": "code",
   "execution_count": 7,
   "metadata": {},
   "outputs": [],
   "source": [
    "torch.manual_seed(42)\n",
    "new_nn_light = LightNN(num_classes=10).to(device)\n"
   ]
  },
  {
   "cell_type": "code",
   "execution_count": 8,
   "metadata": {},
   "outputs": [
    {
     "name": "stdout",
     "output_type": "stream",
     "text": [
      "Norm of 1st layer of nn_light: 2.327361822128296\n",
      "Norm of 1st layer of new_nn_light: 2.327361822128296\n"
     ]
    }
   ],
   "source": [
    "# Print the norm of the first layer of the initial lightweight model\n",
    "print(\"Norm of 1st layer of nn_light:\", torch.norm(nn_light.features[0].weight).item())\n",
    "# Print the norm of the first layer of the new lightweight model\n",
    "print(\"Norm of 1st layer of new_nn_light:\", torch.norm(new_nn_light.features[0].weight).item())"
   ]
  },
  {
   "cell_type": "code",
   "execution_count": 9,
   "metadata": {},
   "outputs": [
    {
     "name": "stdout",
     "output_type": "stream",
     "text": [
      "DeepNN parameters: 1,186,986\n",
      "LightNN parameters: 267,738\n"
     ]
    }
   ],
   "source": [
    "total_params_deep = \"{:,}\".format(sum(p.numel() for p in nn_deep.parameters()))\n",
    "print(f\"DeepNN parameters: {total_params_deep}\")\n",
    "total_params_light = \"{:,}\".format(sum(p.numel() for p in nn_light.parameters()))\n",
    "print(f\"LightNN parameters: {total_params_light}\")"
   ]
  },
  {
   "cell_type": "code",
   "execution_count": 10,
   "metadata": {},
   "outputs": [
    {
     "name": "stdout",
     "output_type": "stream",
     "text": [
      "Epoch 1/50, Loss: 1.4696982763612363\n",
      "Epoch 2/50, Loss: 1.1597190871263099\n",
      "Epoch 3/50, Loss: 1.0274034961105307\n",
      "Epoch 4/50, Loss: 0.9194910018645284\n",
      "Epoch 5/50, Loss: 0.8405520173594775\n",
      "Epoch 6/50, Loss: 0.7739942942738838\n",
      "Epoch 7/50, Loss: 0.7083837921966982\n",
      "Epoch 8/50, Loss: 0.6514772647024726\n",
      "Epoch 9/50, Loss: 0.5975743385074693\n",
      "Epoch 10/50, Loss: 0.5475177697818298\n",
      "Epoch 11/50, Loss: 0.5032763705991418\n",
      "Epoch 12/50, Loss: 0.4561621770072166\n",
      "Epoch 13/50, Loss: 0.4133868062358988\n",
      "Epoch 14/50, Loss: 0.3758860077242107\n",
      "Epoch 15/50, Loss: 0.34238458312380954\n",
      "Epoch 16/50, Loss: 0.3135577602993192\n",
      "Epoch 17/50, Loss: 0.2820614961635731\n",
      "Epoch 18/50, Loss: 0.26250885327911133\n",
      "Epoch 19/50, Loss: 0.2440284442947344\n",
      "Epoch 20/50, Loss: 0.22438596617763915\n",
      "Epoch 21/50, Loss: 0.2049499749946777\n",
      "Epoch 22/50, Loss: 0.19051729348461952\n",
      "Epoch 23/50, Loss: 0.18244457847017156\n",
      "Epoch 24/50, Loss: 0.1723389409653976\n",
      "Epoch 25/50, Loss: 0.16546708353988046\n",
      "Epoch 26/50, Loss: 0.1550621938846453\n",
      "Epoch 27/50, Loss: 0.14851879002645496\n",
      "Epoch 28/50, Loss: 0.14463418931759836\n",
      "Epoch 29/50, Loss: 0.13880318758623375\n",
      "Epoch 30/50, Loss: 0.12701949946906255\n",
      "Epoch 31/50, Loss: 0.13019210682310106\n",
      "Epoch 32/50, Loss: 0.1194032965146977\n",
      "Epoch 33/50, Loss: 0.1224345473710762\n",
      "Epoch 34/50, Loss: 0.11044123195245138\n",
      "Epoch 35/50, Loss: 0.11644696960192355\n",
      "Epoch 36/50, Loss: 0.11351314212297997\n",
      "Epoch 37/50, Loss: 0.10518314275423736\n",
      "Epoch 38/50, Loss: 0.10571300356989474\n",
      "Epoch 39/50, Loss: 0.09903805043615038\n",
      "Epoch 40/50, Loss: 0.0953403696217729\n",
      "Epoch 41/50, Loss: 0.09732261555902946\n",
      "Epoch 42/50, Loss: 0.09904635558500315\n",
      "Epoch 43/50, Loss: 0.09807006735354662\n",
      "Epoch 44/50, Loss: 0.09120801604255234\n",
      "Epoch 45/50, Loss: 0.08805852219976885\n",
      "Epoch 46/50, Loss: 0.085929888788887\n",
      "Epoch 47/50, Loss: 0.08815478220763033\n",
      "Epoch 48/50, Loss: 0.08013123150467111\n",
      "Epoch 49/50, Loss: 0.08621682968857648\n",
      "Epoch 50/50, Loss: 0.08654327951181118\n",
      "Test Accuracy: 67.79%\n"
     ]
    }
   ],
   "source": [
    "train(nn_light, train_loader, epochs=50, learning_rate=0.001, device=device)\n",
    "test_accuracy_light_ce = test(nn_light, test_loader, device)"
   ]
  },
  {
   "cell_type": "code",
   "execution_count": 11,
   "metadata": {},
   "outputs": [
    {
     "name": "stdout",
     "output_type": "stream",
     "text": [
      "Teacher accuracy: 74.77%\n",
      "Student accuracy: 67.79%\n"
     ]
    }
   ],
   "source": [
    "print(f\"Teacher accuracy: {test_accuracy_deep:.2f}%\")\n",
    "print(f\"Student accuracy: {test_accuracy_light_ce:.2f}%\")"
   ]
  },
  {
   "cell_type": "code",
   "execution_count": 12,
   "metadata": {},
   "outputs": [
    {
     "name": "stdout",
     "output_type": "stream",
     "text": [
      "Epoch 1/50, Loss: nan\n",
      "Epoch 2/50, Loss: nan\n",
      "Epoch 3/50, Loss: nan\n",
      "Epoch 4/50, Loss: nan\n",
      "Epoch 5/50, Loss: nan\n",
      "Epoch 6/50, Loss: nan\n",
      "Epoch 7/50, Loss: nan\n",
      "Epoch 8/50, Loss: nan\n",
      "Epoch 9/50, Loss: nan\n",
      "Epoch 10/50, Loss: nan\n",
      "Epoch 11/50, Loss: nan\n",
      "Epoch 12/50, Loss: nan\n",
      "Epoch 13/50, Loss: nan\n",
      "Epoch 14/50, Loss: nan\n",
      "Epoch 15/50, Loss: nan\n",
      "Epoch 16/50, Loss: nan\n",
      "Epoch 17/50, Loss: nan\n",
      "Epoch 18/50, Loss: nan\n",
      "Epoch 19/50, Loss: nan\n",
      "Epoch 20/50, Loss: nan\n",
      "Epoch 21/50, Loss: nan\n",
      "Epoch 22/50, Loss: nan\n",
      "Epoch 23/50, Loss: nan\n",
      "Epoch 24/50, Loss: nan\n",
      "Epoch 25/50, Loss: nan\n",
      "Epoch 26/50, Loss: nan\n",
      "Epoch 27/50, Loss: nan\n",
      "Epoch 28/50, Loss: nan\n",
      "Epoch 29/50, Loss: nan\n",
      "Epoch 30/50, Loss: nan\n",
      "Epoch 31/50, Loss: nan\n",
      "Epoch 32/50, Loss: nan\n",
      "Epoch 33/50, Loss: nan\n",
      "Epoch 34/50, Loss: nan\n",
      "Epoch 35/50, Loss: nan\n",
      "Epoch 36/50, Loss: nan\n",
      "Epoch 37/50, Loss: nan\n",
      "Epoch 38/50, Loss: nan\n",
      "Epoch 39/50, Loss: nan\n",
      "Epoch 40/50, Loss: nan\n",
      "Epoch 41/50, Loss: nan\n",
      "Epoch 42/50, Loss: nan\n",
      "Epoch 43/50, Loss: nan\n",
      "Epoch 44/50, Loss: nan\n",
      "Epoch 45/50, Loss: nan\n",
      "Epoch 46/50, Loss: nan\n",
      "Epoch 47/50, Loss: nan\n",
      "Epoch 48/50, Loss: nan\n",
      "Epoch 49/50, Loss: nan\n",
      "Epoch 50/50, Loss: nan\n",
      "Test Accuracy: 68.71%\n",
      "Teacher accuracy: 74.77%\n",
      "Student accuracy without teacher: 67.79%\n",
      "Student accuracy with CE + KD: 68.71%\n"
     ]
    }
   ],
   "source": [
    "def train_knowledge_distillation(teacher, student, train_loader, epochs, learning_rate, T, soft_target_loss_weight, ce_loss_weight, device):\n",
    "    ce_loss = nn.CrossEntropyLoss()\n",
    "    optimizer = optim.Adam(student.parameters(), lr=learning_rate)\n",
    "\n",
    "    teacher.eval()  # Teacher set to evaluation mode\n",
    "    student.train() # Student to train mode\n",
    "\n",
    "    for epoch in range(epochs):\n",
    "        running_loss = 0.0\n",
    "        for inputs, labels in train_loader:\n",
    "            inputs, labels = inputs.to(device), labels.to(device)\n",
    "\n",
    "            optimizer.zero_grad()\n",
    "\n",
    "            # Forward pass with the teacher model - do not save gradients here as we do not change the teacher's weights\n",
    "            with torch.no_grad():\n",
    "                teacher_logits = teacher(inputs)\n",
    "\n",
    "            # Forward pass with the student model\n",
    "            student_logits = student(inputs)\n",
    "            # print(student_logits.mean(), teacher_logits.mean())\n",
    "            #Soften the student logits by applying softmax first and log() second\n",
    "            soft_targets = nn.functional.softmax(teacher_logits / T, dim=-1)\n",
    "            soft_prob = nn.functional.log_softmax(student_logits / T, dim=-1)\n",
    "\n",
    "            # Calculate the soft targets loss. Scaled by T**2 as suggested by the authors of the paper \"Distilling the knowledge in a neural network\"\n",
    "            soft_targets_loss = torch.sum(soft_targets * (soft_targets.log() - soft_prob)) / soft_prob.size()[0] * (T**2)\n",
    "\n",
    "            # Calculate the true label loss\n",
    "            label_loss = ce_loss(student_logits, labels)\n",
    "\n",
    "            # Weighted sum of the two losses\n",
    "            loss = soft_target_loss_weight * soft_targets_loss + ce_loss_weight * label_loss\n",
    "\n",
    "            loss.backward()\n",
    "            optimizer.step()\n",
    "\n",
    "            running_loss += loss.item()\n",
    "\n",
    "        print(f\"Epoch {epoch+1}/{epochs}, Loss: {running_loss / len(train_loader)}\")\n",
    "\n",
    "# Apply ``train_knowledge_distillation`` with a temperature of 2. Arbitrarily set the weights to 0.75 for CE and 0.25 for distillation loss.\n",
    "train_knowledge_distillation(teacher=nn_deep, student=new_nn_light, train_loader=train_loader, epochs=50, learning_rate=0.001, T=2, soft_target_loss_weight=0.25, ce_loss_weight=0.75, device=device)\n",
    "test_accuracy_light_ce_and_kd = test(new_nn_light, test_loader, device)\n",
    "\n",
    "# Compare the student test accuracy with and without the teacher, after distillation\n",
    "print(f\"Teacher accuracy: {test_accuracy_deep:.2f}%\")\n",
    "print(f\"Student accuracy without teacher: {test_accuracy_light_ce:.2f}%\")\n",
    "print(f\"Student accuracy with CE + KD: {test_accuracy_light_ce_and_kd:.2f}%\")\n"
   ]
  },
  {
   "cell_type": "code",
   "execution_count": null,
   "metadata": {},
   "outputs": [],
   "source": []
  },
  {
   "cell_type": "code",
   "execution_count": null,
   "metadata": {},
   "outputs": [],
   "source": []
  }
 ],
 "metadata": {
  "kernelspec": {
   "display_name": "env",
   "language": "python",
   "name": "python3"
  },
  "language_info": {
   "codemirror_mode": {
    "name": "ipython",
    "version": 3
   },
   "file_extension": ".py",
   "mimetype": "text/x-python",
   "name": "python",
   "nbconvert_exporter": "python",
   "pygments_lexer": "ipython3",
   "version": "3.11.5"
  }
 },
 "nbformat": 4,
 "nbformat_minor": 2
}
